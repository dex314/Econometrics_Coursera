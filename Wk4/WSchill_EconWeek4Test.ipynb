{
 "cells": [
  {
   "cell_type": "markdown",
   "metadata": {},
   "source": [
    "### Econometrics - Week 4\n",
    "\n",
    "#### William Schill\n",
    "\n",
    "Each of the answers for the exam question are posted below their respective question reference letter. Additionally, there is a bug in the mathjax html that leaves a trailing vertical bar after equations. I could not find a way to fix this."
   ]
  },
  {
   "cell_type": "markdown",
   "metadata": {},
   "source": [
    "============================================================================="
   ]
  },
  {
   "cell_type": "markdown",
   "metadata": {},
   "source": [
    "__(a)__:\n",
    "\n",
    "The equation has $\\gamma y_{i0}$ on the right hand side which corresponds to a correlation effect with the left hand side. Additionally, a possible reason for the _di_ variable (for having followed the diet in the past year) might be endogenous is the length at which the diet was actually followed. If the individual had only followed the diet for a short time but had great weight loss, then it may have been due to factors found within the error or vice verse. \n",
    "\n",
    "Additionally, if there were significant variation of the length of time to which the diet was followed over the past year with significant variation of weight loss among these times, then the model may underestimate if individuals dropped off of the diet early due to lack of weight loss results or stayed on for the enitre year and still had insiginificant results.\n",
    "\n",
    "The weight loss variable may increase with time spent on diet."
   ]
  },
  {
   "cell_type": "markdown",
   "metadata": {},
   "source": [
    "============================================================================="
   ]
  },
  {
   "cell_type": "markdown",
   "metadata": {},
   "source": [
    "__(b)__:\n",
    "\n",
    "_(i)_: The equation, $1/n * Z'\\epsilon \\xrightarrow{} 0$ refers to the instrument variable (in this case the door-to-door advertising influence) and it is essentially a sum over observations and including 1/n term is like an average and it has a value that converges to zero as the number of individuals increases. In other words, as the number of individuals (the sample size) increases, and if the advertising is not correlated to the error then their dot product will not increase with increasing n and the full equation will get smaller and smaller, converging to zero. Mathematically, it says that Z is orthogonal to epsilon and has 0 correlation.\n",
    "\n",
    "_(ii)_: The equation, $1/n * Z'X -> Q \\neq 0$, is saying that as the number of individuals increase, then the dot product of the instrument variable if correlated with X will converge to some value Q as the dot product will continually change due to the correlation and the full value of the equation will not decrese with increasing n. Door-to-door adverising is correlated with the diet's efficacy and an improvment (for example) gives a direct improvement to the other. \n"
   ]
  },
  {
   "cell_type": "markdown",
   "metadata": {},
   "source": [
    "============================================================================="
   ]
  },
  {
   "cell_type": "markdown",
   "metadata": {},
   "source": [
    "__(c)__:\n",
    "\n",
    "For part __b(i)__, it is difficult to test whether or not this is true in this case. Remember as stated above, that this is approximately equal to :\n",
    "\n",
    "$ cov(Z,\\epsilon) \\xrightarrow{} 0 $\n",
    "\n",
    "Since there is no residual estimator to take into account here, $cov(Z,\\epsilon)/var(\\epsilon)$ , this has to be confirmed using some sort of intuition. \n",
    "\n",
    "For part __b(ii)__, and following the same information above, we would have to test if:\n",
    "\n",
    "$ cov(Z,X) \\xrightarrow{} Q \\neq 0 $\n",
    "\n",
    "This can be confirmed by using the  left hand side of the inequality and assuming that:\n",
    "\n",
    "$ Q = cov(Z,X) / var(X) $ \n",
    "\n",
    "Then we can test for $H_0 : Q = 0$ against $ H1: Q \\neq 0 $ so for our regression here we can reject $H_0$ as that would imply we have a unique choicre of instrument variable."
   ]
  },
  {
   "cell_type": "markdown",
   "metadata": {},
   "source": [
    "=============================================================================="
   ]
  },
  {
   "cell_type": "markdown",
   "metadata": {},
   "source": [
    "__(d)__:\n",
    "\n",
    "For two stage least sqaures, given $ y_{i1} - y_{i0} = \\alpha + \\beta d_i + \\mu_i $,\n",
    "\n",
    "Assume z_i satisfies the conditions in __(b)__, is an instrument for d_i, and z_i is uncorrelated with y_i0 and x_i. \n",
    "\n",
    "We want to show that $\\hat{\\beta} = \\frac{ \\bar{y_1} - \\bar{y_0}}{ \\bar{d_1} - \\bar{d_0}} .$\n",
    "\n",
    "We know that,\n",
    "\n",
    "$\\hat{\\beta} \\approx (z_i'd_i)^{-1}(z_i'y) \\approx \\frac{cov(z_i,y_i)}{cov(z_i,d_I)} = \\frac{\\sum_{i=1}^{n}({y_i}-\\bar{y})({z_i}-\\bar{z})}{\\sum_{i=1}^{n}({d_i}-\\bar{d})({z_i}-\\bar{z})} $\n",
    "\n",
    "Since z_i is binary as described in the problem, lets let n_1 be the number of 1's in the sample and n_0 be the number of 0's in the sample, then we could say that $ \\bar{z} = \\frac{n_1}{n_1+n_0} .$\n",
    "\n",
    "By expanding the terms in the summation, we simplify to the following:\n",
    "\n",
    "$\\hat{\\beta} = \\frac{ \\sum_{z_i=1}y_i - \\bar{z}\\sum_{i=1}^{n}y_i - \\bar{y}\\sum_{i=1}^{n}z_i + n\\bar{y}\\bar{z} }{\\sum_{z_i=1}d_i - \\bar{z}\\sum_{i=1}^{n}d_i - \\bar{d}\\sum_{i=1}^{n}z_i + n\\bar{d}\\bar{z}} = ...$\n",
    "\n",
    "Then rearranging, we have:\n",
    "\n",
    "$ ... = \\frac{ n_1\\bar{y_1} - \\bar{z}(n_1\\bar{y_1}+n_0\\bar{y_0})}{n_1\\bar{d_1} - \\bar{z}(n_1\\bar{d_1}+n_0\\bar{d_0})}  = \n",
    "... = \\frac{ \\frac{n_1n_0}{n_1+n_0} \\bar{y_1} - \\frac{n_1n_0}{n_1+n_0} \\bar{y_0}}{ \\frac{n_1n_0}{n_1+n_0} \\bar{d_1} - \\frac{n_1n_0}{n_1+n_0} \\bar{d_0}} = ...$\n",
    "\n",
    "Then further simplification and cancelation of terms yields:\n",
    "\n",
    "$\\hat{\\beta} = \\frac{\\frac{n_1n_0}{n_1+n_0}(\\bar{y_1} -\\bar{y_0})}{\\frac{n_1n_0}{n_1+n_0}(\\bar{d_1} -\\bar{d_0})}  = \\frac{ \\bar{y_1} - \\bar{y_0}}{ \\bar{d_1} - \\bar{d_0}}$\n"
   ]
  },
  {
   "cell_type": "code",
   "execution_count": null,
   "metadata": {
    "collapsed": true
   },
   "outputs": [],
   "source": []
  }
 ],
 "metadata": {
  "kernelspec": {
   "display_name": "Python 2",
   "language": "python",
   "name": "python2"
  },
  "language_info": {
   "codemirror_mode": {
    "name": "ipython",
    "version": 2
   },
   "file_extension": ".py",
   "mimetype": "text/x-python",
   "name": "python",
   "nbconvert_exporter": "python",
   "pygments_lexer": "ipython2",
   "version": "2.7.12"
  }
 },
 "nbformat": 4,
 "nbformat_minor": 1
}
