{
 "cells": [
  {
   "cell_type": "markdown",
   "metadata": {},
   "source": [
    "### Econometrics - Week 2\n",
    "\n",
    "#### William Schill\n",
    "\n",
    "This file was originally created using Jupyter with Python and HTML and has been saved as a pdf rather than exported to a pdf due to errors in exporting and latex, because of this formatting is a little wonky."
   ]
  },
  {
   "cell_type": "code",
   "execution_count": 1,
   "metadata": {
    "collapsed": true
   },
   "outputs": [],
   "source": [
    "import numpy as np\n",
    "import pandas as pd\n",
    "from matplotlib.pyplot import *\n",
    "import statsmodels.api as sma\n",
    "import statsmodels.stats as sms\n",
    "import seaborn as sns\n",
    "%matplotlib inline"
   ]
  },
  {
   "cell_type": "code",
   "execution_count": 2,
   "metadata": {
    "collapsed": true
   },
   "outputs": [],
   "source": [
    "path = 'C:\\\\Users\\\\SchillW\\\\Documents\\\\Econ_Coursera\\\\Wk2\\\\'\n",
    "df = pd.read_excel(path+'TestExer2-GPA-round2.xls')"
   ]
  },
  {
   "cell_type": "code",
   "execution_count": 3,
   "metadata": {
    "collapsed": false
   },
   "outputs": [
    {
     "data": {
      "text/html": [
       "<div>\n",
       "<table border=\"1\" class=\"dataframe\">\n",
       "  <thead>\n",
       "    <tr style=\"text-align: right;\">\n",
       "      <th></th>\n",
       "      <th>Observation</th>\n",
       "      <th>FGPA</th>\n",
       "      <th>SATM</th>\n",
       "      <th>SATV</th>\n",
       "      <th>FEM</th>\n",
       "    </tr>\n",
       "  </thead>\n",
       "  <tbody>\n",
       "    <tr>\n",
       "      <th>0</th>\n",
       "      <td>1</td>\n",
       "      <td>2.518</td>\n",
       "      <td>4.0</td>\n",
       "      <td>4.0</td>\n",
       "      <td>1</td>\n",
       "    </tr>\n",
       "    <tr>\n",
       "      <th>1</th>\n",
       "      <td>2</td>\n",
       "      <td>2.326</td>\n",
       "      <td>4.9</td>\n",
       "      <td>3.1</td>\n",
       "      <td>0</td>\n",
       "    </tr>\n",
       "    <tr>\n",
       "      <th>2</th>\n",
       "      <td>3</td>\n",
       "      <td>3.003</td>\n",
       "      <td>4.4</td>\n",
       "      <td>4.0</td>\n",
       "      <td>1</td>\n",
       "    </tr>\n",
       "    <tr>\n",
       "      <th>3</th>\n",
       "      <td>4</td>\n",
       "      <td>2.111</td>\n",
       "      <td>4.9</td>\n",
       "      <td>3.9</td>\n",
       "      <td>0</td>\n",
       "    </tr>\n",
       "    <tr>\n",
       "      <th>4</th>\n",
       "      <td>5</td>\n",
       "      <td>2.145</td>\n",
       "      <td>4.3</td>\n",
       "      <td>4.7</td>\n",
       "      <td>0</td>\n",
       "    </tr>\n",
       "  </tbody>\n",
       "</table>\n",
       "</div>"
      ],
      "text/plain": [
       "   Observation   FGPA  SATM  SATV  FEM\n",
       "0            1  2.518   4.0   4.0    1\n",
       "1            2  2.326   4.9   3.1    0\n",
       "2            3  3.003   4.4   4.0    1\n",
       "3            4  2.111   4.9   3.9    0\n",
       "4            5  2.145   4.3   4.7    0"
      ]
     },
     "execution_count": 3,
     "metadata": {},
     "output_type": "execute_result"
    }
   ],
   "source": [
    "df.head()"
   ]
  },
  {
   "cell_type": "code",
   "execution_count": 4,
   "metadata": {
    "collapsed": false
   },
   "outputs": [
    {
     "name": "stdout",
     "output_type": "stream",
     "text": [
      "                            OLS Regression Results                            \n",
      "==============================================================================\n",
      "Dep. Variable:                   FGPA   R-squared:                       0.008\n",
      "Model:                            OLS   Adj. R-squared:                  0.007\n",
      "Method:                 Least Squares   F-statistic:                     5.201\n",
      "Date:                Fri, 03 Feb 2017   Prob (F-statistic):             0.0229\n",
      "Time:                        09:01:09   Log-Likelihood:                -388.44\n",
      "No. Observations:                 609   AIC:                             780.9\n",
      "Df Residuals:                     607   BIC:                             789.7\n",
      "Df Model:                           1                                         \n",
      "Covariance Type:            nonrobust                                         \n",
      "==============================================================================\n",
      "                 coef    std err          t      P>|t|      [95.0% Conf. Int.]\n",
      "------------------------------------------------------------------------------\n",
      "const          2.4417      0.155     15.747      0.000         2.137     2.746\n",
      "SATV           0.0631      0.028      2.280      0.023         0.009     0.117\n",
      "==============================================================================\n",
      "Omnibus:                       11.335   Durbin-Watson:                   1.949\n",
      "Prob(Omnibus):                  0.003   Jarque-Bera (JB):                7.694\n",
      "Skew:                           0.138   Prob(JB):                       0.0213\n",
      "Kurtosis:                       2.524   Cond. No.                         48.2\n",
      "==============================================================================\n",
      "\n",
      "Warnings:\n",
      "[1] Standard Errors assume that the covariance matrix of the errors is correctly specified.\n"
     ]
    }
   ],
   "source": [
    "xa = df['SATV']\n",
    "ya = df['FGPA']\n",
    "moda = sma.OLS(ya,sma.add_constant(xa))\n",
    "fita = moda.fit()\n",
    "print fita.summary()"
   ]
  },
  {
   "cell_type": "markdown",
   "metadata": {},
   "source": [
    "__(a)(i)__ \n",
    "\n",
    "__The coefficient for SATV is 0.0631 amd the p-value is 0.023. Assuming H0 is that SATV has a significant effect on FGPA, we cannot reject the Null to the 95% confidence interval.__"
   ]
  },
  {
   "cell_type": "code",
   "execution_count": 5,
   "metadata": {
    "collapsed": false
   },
   "outputs": [
    {
     "name": "stdout",
     "output_type": "stream",
     "text": [
      "Confidence Interval for FGPA is : (2.7894274148855658, 2.7961653601554843)\n",
      "Confidence Interval for FGPA with SATV+1 is : (2.8525132602634113, 2.8592512055333299)\n"
     ]
    }
   ],
   "source": [
    "b = fita.params\n",
    "FGPA1 = np.dot(sma.add_constant(xa),b.T)\n",
    "FGPA2 = np.dot(sma.add_constant((xa+1)),b.T)\n",
    "\n",
    "ciFGPA1 = sms.weightstats.zconfint(FGPA1, alpha=0.05)\n",
    "ciFGPA2 = sms.weightstats.zconfint(FGPA2, alpha=0.05)\n",
    "\n",
    "print \"Confidence Interval for FGPA is :\", ciFGPA1\n",
    "print \"Confidence Interval for FGPA with SATV+1 is :\", ciFGPA2"
   ]
  },
  {
   "cell_type": "code",
   "execution_count": 6,
   "metadata": {
    "collapsed": false
   },
   "outputs": [
    {
     "name": "stdout",
     "output_type": "stream",
     "text": [
      "\n",
      "==================================\n",
      "\n",
      "Increase of 1 Point in SATV has  2.25887736248 % effect on mean FGPA\n"
     ]
    }
   ],
   "source": [
    "# print \"Mean , Stand Dev of FGPA1 = \", np.mean(FGPA1), \" , \", np.std(FGPA1)\n",
    "# print \"Mean , Stand Dev of FGPA2 = \", np.mean(FGPA2), \" , \", np.std(FGPA2)\n",
    "print \"\\n==================================\\n\"\n",
    "print \"Increase of 1 Point in SATV has \", (np.mean(FGPA2)/np.mean(FGPA1)-1.0)*100.0, '% effect on mean FGPA'"
   ]
  },
  {
   "cell_type": "markdown",
   "metadata": {},
   "source": [
    "__(a)(ii)__\n",
    "\n",
    "__The confidence interval for the 1 point increase can be seen above. A 1 point change to SATV is approximately a 2.26% incraese in FGPA. The confidence intervals in the summary are based on the p-value and the ones listed above are based on the z-score:__\n",
    "\n",
    "__Pvalue confidence interval: 0.009 < t < 0.117__\n",
    "__Confidence Interval for FGPA is : (2.7894274148855658, 2.7961653601554843)__\n",
    "__Confidence Interval for FGPA with SATV+1 is : (2.8525132602634113, 2.8592512055333299)__"
   ]
  },
  {
   "cell_type": "code",
   "execution_count": 7,
   "metadata": {
    "collapsed": false
   },
   "outputs": [
    {
     "name": "stdout",
     "output_type": "stream",
     "text": [
      "                            OLS Regression Results                            \n",
      "==============================================================================\n",
      "Dep. Variable:                   FGPA   R-squared:                       0.083\n",
      "Model:                            OLS   Adj. R-squared:                  0.078\n",
      "Method:                 Least Squares   F-statistic:                     18.24\n",
      "Date:                Fri, 03 Feb 2017   Prob (F-statistic):           2.41e-11\n",
      "Time:                        09:01:09   Log-Likelihood:                -364.67\n",
      "No. Observations:                 609   AIC:                             737.3\n",
      "Df Residuals:                     605   BIC:                             755.0\n",
      "Df Model:                           3                                         \n",
      "Covariance Type:            nonrobust                                         \n",
      "==============================================================================\n",
      "                 coef    std err          t      P>|t|      [95.0% Conf. Int.]\n",
      "------------------------------------------------------------------------------\n",
      "const          1.5570      0.216      7.205      0.000         1.133     1.981\n",
      "SATM           0.1727      0.032      5.410      0.000         0.110     0.235\n",
      "SATV           0.0142      0.028      0.507      0.612        -0.041     0.069\n",
      "FEM            0.2003      0.037      5.358      0.000         0.127     0.274\n",
      "==============================================================================\n",
      "Omnibus:                        7.757   Durbin-Watson:                   1.912\n",
      "Prob(Omnibus):                  0.021   Jarque-Bera (JB):                5.727\n",
      "Skew:                           0.118   Prob(JB):                       0.0571\n",
      "Kurtosis:                       2.588   Cond. No.                         103.\n",
      "==============================================================================\n",
      "\n",
      "Warnings:\n",
      "[1] Standard Errors assume that the covariance matrix of the errors is correctly specified.\n"
     ]
    }
   ],
   "source": [
    "xb = df.drop(['FGPA','Observation'],axis=1)\n",
    "yb = ya\n",
    "modb = sma.OLS(yb,sma.add_constant(xb))\n",
    "fitb = modb.fit()\n",
    "print fitb.summary()"
   ]
  },
  {
   "cell_type": "markdown",
   "metadata": {},
   "source": [
    "__(b)(i)__ \n",
    "\n",
    "__The coefficients are listed above and assuming the H0 is that the variables have a significant impact of FGPA, we can reject the Null for SATV when SATM and FEM are included.__"
   ]
  },
  {
   "cell_type": "code",
   "execution_count": 8,
   "metadata": {
    "collapsed": false
   },
   "outputs": [
    {
     "name": "stdout",
     "output_type": "stream",
     "text": [
      "Confidence Interval for FGPA is : (2.7822678481821517, 2.8033249268589073)\n",
      "Confidence Interval for FGPA with SATV+1 is : (2.7964297447224977, 2.8174868233992534)\n"
     ]
    }
   ],
   "source": [
    "b2 = fitb.params\n",
    "FGPA3 = np.dot(sma.add_constant(xb),b2.T) #prediction\n",
    "\n",
    "xb2 = xb.copy()\n",
    "xb2['SATV'] = xb2['SATV']+1.0\n",
    "FGPA4 = np.dot(sma.add_constant(xb2),b2.T) #prediction\n",
    "\n",
    "ciFGPA3 = sms.weightstats.zconfint(FGPA3, alpha=0.05)\n",
    "ciFGPA4 = sms.weightstats.zconfint(FGPA4, alpha=0.05)\n",
    "\n",
    "print \"Confidence Interval for FGPA is :\", ciFGPA3\n",
    "print \"Confidence Interval for FGPA with SATV+1 is :\", ciFGPA4"
   ]
  },
  {
   "cell_type": "code",
   "execution_count": 9,
   "metadata": {
    "collapsed": false
   },
   "outputs": [
    {
     "name": "stdout",
     "output_type": "stream",
     "text": [
      "\n",
      "==================================\n",
      "\n",
      "Increase of 1 Point in SATV has  0.507086610525 % effect on mean FGPA\n"
     ]
    }
   ],
   "source": [
    "print \"\\n==================================\\n\"\n",
    "print \"Increase of 1 Point in SATV has \", (np.mean(FGPA4)/np.mean(FGPA3)-1.0)*100.0, '% effect on mean FGPA'"
   ]
  },
  {
   "cell_type": "markdown",
   "metadata": {},
   "source": [
    "__(b)(ii)__ : \n",
    "\n",
    "__The confidence intervals for all of the variables p-values can be found in the table above. The confidence interval for FGPA with a 1 point increase in SATV for the model with more variables is seen above. The effect of a 1 point increase here is 0.51% which makes sense as the variable has a far less significant impact when accompanied by the other variables.__\n",
    "\n",
    "__Confidence Interval for FGPA is : (2.7822678481821517, 2.8033249268589073)__\n",
    "__Confidence Interval for FGPA with SATV+1 is : (2.7964297447224977, 2.8174868233992534)__"
   ]
  },
  {
   "cell_type": "code",
   "execution_count": 10,
   "metadata": {
    "collapsed": false
   },
   "outputs": [
    {
     "data": {
      "text/html": [
       "<div>\n",
       "<table border=\"1\" class=\"dataframe\">\n",
       "  <thead>\n",
       "    <tr style=\"text-align: right;\">\n",
       "      <th></th>\n",
       "      <th>FGPA</th>\n",
       "      <th>SATM</th>\n",
       "      <th>SATV</th>\n",
       "      <th>FEM</th>\n",
       "    </tr>\n",
       "  </thead>\n",
       "  <tbody>\n",
       "    <tr>\n",
       "      <th>FGPA</th>\n",
       "      <td>1.000000</td>\n",
       "      <td>0.195040</td>\n",
       "      <td>0.092167</td>\n",
       "      <td>0.176491</td>\n",
       "    </tr>\n",
       "    <tr>\n",
       "      <th>SATM</th>\n",
       "      <td>0.195040</td>\n",
       "      <td>1.000000</td>\n",
       "      <td>0.287801</td>\n",
       "      <td>-0.162680</td>\n",
       "    </tr>\n",
       "    <tr>\n",
       "      <th>SATV</th>\n",
       "      <td>0.092167</td>\n",
       "      <td>0.287801</td>\n",
       "      <td>1.000000</td>\n",
       "      <td>0.033577</td>\n",
       "    </tr>\n",
       "    <tr>\n",
       "      <th>FEM</th>\n",
       "      <td>0.176491</td>\n",
       "      <td>-0.162680</td>\n",
       "      <td>0.033577</td>\n",
       "      <td>1.000000</td>\n",
       "    </tr>\n",
       "  </tbody>\n",
       "</table>\n",
       "</div>"
      ],
      "text/plain": [
       "          FGPA      SATM      SATV       FEM\n",
       "FGPA  1.000000  0.195040  0.092167  0.176491\n",
       "SATM  0.195040  1.000000  0.287801 -0.162680\n",
       "SATV  0.092167  0.287801  1.000000  0.033577\n",
       "FEM   0.176491 -0.162680  0.033577  1.000000"
      ]
     },
     "execution_count": 10,
     "metadata": {},
     "output_type": "execute_result"
    }
   ],
   "source": [
    "corchk = df.drop(['Observation'], axis=1)\n",
    "corchk.corr()"
   ]
  },
  {
   "cell_type": "code",
   "execution_count": 11,
   "metadata": {
    "collapsed": false
   },
   "outputs": [
    {
     "data": {
      "text/plain": [
       "<matplotlib.axes._subplots.AxesSubplot at 0xa675f98>"
      ]
     },
     "execution_count": 11,
     "metadata": {},
     "output_type": "execute_result"
    },
    {
     "data": {
      "image/png": "[encoded data removed]",
      "text/plain": [
       "<matplotlib.figure.Figure at 0xa6fa7f0>"
      ]
     },
     "metadata": {},
     "output_type": "display_data"
    }
   ],
   "source": [
    "sns.heatmap( corchk.corr())"
   ]
  },
  {
   "cell_type": "markdown",
   "metadata": {},
   "source": [
    "__(c)__:\n",
    "\n",
    "__SATM and SATV have a 0.288 correlation which is lowering the significance of SATV in part _b(ii)_. SATV could be dropped with out any significant effect on the model.__"
   ]
  },
  {
   "cell_type": "code",
   "execution_count": 12,
   "metadata": {
    "collapsed": false
   },
   "outputs": [
    {
     "name": "stdout",
     "output_type": "stream",
     "text": [
      "18.2448959522\n",
      "2.41149998676e-11\n"
     ]
    }
   ],
   "source": [
    "print fitb.fvalue\n",
    "print fitb.f_pvalue"
   ]
  },
  {
   "cell_type": "code",
   "execution_count": 13,
   "metadata": {
    "collapsed": false
   },
   "outputs": [
    {
     "name": "stdout",
     "output_type": "stream",
     "text": [
      "<F test: F=array([[ 18.24489595]]), p=2.41149998676e-11, df_denom=605, df_num=3>\n",
      "(609, 3)\n"
     ]
    }
   ],
   "source": [
    "R = np.array([[0,1,0,0],\n",
    "            [0,0,1,0],\n",
    "            [0,0,0,1]])\n",
    "print fitb.f_test(R)\n",
    "print np.shape(xb)"
   ]
  },
  {
   "cell_type": "markdown",
   "metadata": {},
   "source": [
    "_Comparing F tests for regression a and regression b:_"
   ]
  },
  {
   "cell_type": "code",
   "execution_count": 14,
   "metadata": {
    "collapsed": false
   },
   "outputs": [
    {
     "name": "stdout",
     "output_type": "stream",
     "text": [
      "\n",
      "====================================================\n",
      "\n",
      "Manual calculation of F test\n",
      "24.5651939993\n",
      "24.5651939993\n",
      "g= 2.0   n= 609   k= 4\n",
      "\n",
      "====================================================\n",
      "\n",
      "Sqaure root of F =  4.95632868153\n"
     ]
    }
   ],
   "source": [
    "g = 3.0-1.0 ##difference in number of parameters so 3 versus 1\n",
    "n = np.shape(xb)[0]\n",
    "k = np.shape(xb)[1] + 1 #adding in the constant\n",
    "F = ((fitb.rsquared - fita.rsquared) / g) / ( (1-fitb.rsquared)/(n-k) )\n",
    "Fcheck = (fitb.ess - fita.ess)/(fitb.centered_tss - fitb.ess) * (n-k)/g\n",
    "print \"\\n====================================================\\n\"\n",
    "print \"Manual calculation of F test\"\n",
    "print F\n",
    "print Fcheck\n",
    "print \"g=\",g, \"  n=\",n, \"  k=\",k\n",
    "print \"\\n====================================================\\n\"\n",
    "print \"Sqaure root of F = \", np.sqrt(F)"
   ]
  },
  {
   "cell_type": "code",
   "execution_count": 15,
   "metadata": {
    "collapsed": false
   },
   "outputs": [
    {
     "name": "stdout",
     "output_type": "stream",
     "text": [
      "\n",
      "====================================================\n",
      "\n",
      "statsmodels F test calculation for comaprison\n",
      "(24.565193999316588, 5.5276752534973362e-11, 2.0)\n",
      "4.95632868153\n"
     ]
    }
   ],
   "source": [
    "print \"\\n====================================================\\n\"\n",
    "print \"statsmodels F test calculation for comaprison\"\n",
    "F2 = fitb.compare_f_test(fita)\n",
    "print F2\n",
    "print np.sqrt(F2[0])"
   ]
  },
  {
   "cell_type": "markdown",
   "metadata": {
    "collapsed": true
   },
   "source": [
    "__d(i)__:\n",
    "\n",
    "__I read the question as regarding the outcome of the model and not the SATV variable itself. The calculation for the F test (using part against part b) shows that the the F value exceeds the critical value of _3.9_ and we can reject the Null hypothesis. We can confirm this using statsmodels method built into the fit as shown above.__\n",
    "\n",
    "\n",
    "__d(ii)__:\n",
    "\n",
    "__Analytically, it can be shown that the F-test is approximately equal to the t-test squared. However in each calculation, this was unachievable. The statsmodels method derived a value of 8.66E-13 is close to the numerical calculation seen below that of 7.88E-13. In no way was I able to get a value of 4.956 for the t-test.__\n",
    "\n",
    "We know that:\n",
    "\n",
    "$ t = ( y_{bar1} - y_{bar0}) / ( s_p * \\sqrt (1/n_0 + 1/n_1) ) $\n",
    "\n",
    "where s_p = _s pooled_ = $ s_p = ( (n_0-1)*s_0^2 + (n_1-1)*s_1^2 ) / (n_0+n_1-2) $\n",
    "\n",
    "so $t^2 = (y_{bar1} - y_{bar0})^2 / ( s_p^2 * (1/n_0 + 1/n_1) )$\n",
    "\n",
    "For a single outcome, and large n, we know that $ s / \\sqrt( n - k ) \\approx s/\\sqrt(n) $\n",
    "\n",
    "And $ ( s/\\sqrt(n) )^2 \\approx e'e / n $\n",
    "\n",
    "We can substitute this into our equation for t which gives us:\n",
    "\n",
    "$ 1/s_p^2 * (1/n_0 + 1/n_1) \\approx e_p'*e_p * (1/n_0 + 1/n_1) $\n",
    "\n",
    "And using the same method in squaring the numerator of the t-statistic we have:\n",
    "\n",
    "$ (y_{bar1} - y_{bar0})^2 \\approx e_1'e_1 - e_0'e_0 $\n"
   ]
  },
  {
   "cell_type": "code",
   "execution_count": 19,
   "metadata": {
    "collapsed": false
   },
   "outputs": [
    {
     "name": "stdout",
     "output_type": "stream",
     "text": [
      "4.9726862464\n"
     ]
    }
   ],
   "source": [
    "n0 = len(FGPA1); n1 = len(FGPA3)\n",
    "t_stat = np.sqrt( (fitb.ess - fita.ess)/(fitb.centered_tss - fitb.ess) / (1.0/n0 + 1.0/n1) )\n",
    "print t_stat"
   ]
  },
  {
   "cell_type": "markdown",
   "metadata": {},
   "source": [
    "__The above result is approximately equal to the square root of the F-test.__"
   ]
  },
  {
   "cell_type": "markdown",
   "metadata": {
    "collapsed": true
   },
   "source": []
  }
 ],
 "metadata": {
  "kernelspec": {
   "display_name": "Python 2",
   "language": "python",
   "name": "python2"
  },
  "language_info": {
   "codemirror_mode": {
    "name": "ipython",
    "version": 2
   },
   "file_extension": ".py",
   "mimetype": "text/x-python",
   "name": "python",
   "nbconvert_exporter": "python",
   "pygments_lexer": "ipython2",
   "version": "2.7.12"
  }
 },
 "nbformat": 4,
 "nbformat_minor": 1
}
