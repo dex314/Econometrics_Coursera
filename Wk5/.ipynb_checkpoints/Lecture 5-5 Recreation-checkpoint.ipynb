{
 "cells": [
  {
   "cell_type": "markdown",
   "metadata": {},
   "source": [
    "### Lecture 5-5 Recreation"
   ]
  },
  {
   "cell_type": "code",
   "execution_count": 5,
   "metadata": {
    "collapsed": true
   },
   "outputs": [],
   "source": [
    "import numpy as np\n",
    "import pandas as pd\n",
    "from matplotlib.pyplot import *\n",
    "import statsmodels.api as sma\n",
    "import statsmodels.stats as sms\n",
    "import seaborn as sns\n",
    "%matplotlib inline"
   ]
  },
  {
   "cell_type": "code",
   "execution_count": 6,
   "metadata": {
    "collapsed": false
   },
   "outputs": [],
   "source": [
    "path = 'C:\\\\Users\\\\SchillW\\\\Documents\\\\Econ_Coursera\\\\Wk5\\\\'\n",
    "df = pd.read_excel(path+'TrainExer5-5.xls')"
   ]
  },
  {
   "cell_type": "code",
   "execution_count": 7,
   "metadata": {
    "collapsed": false
   },
   "outputs": [
    {
     "data": {
      "text/html": [
       "<div>\n",
       "<table border=\"1\" class=\"dataframe\">\n",
       "  <thead>\n",
       "    <tr style=\"text-align: right;\">\n",
       "      <th></th>\n",
       "      <th>response</th>\n",
       "      <th>male</th>\n",
       "      <th>activity</th>\n",
       "      <th>age</th>\n",
       "    </tr>\n",
       "  </thead>\n",
       "  <tbody>\n",
       "    <tr>\n",
       "      <th>0</th>\n",
       "      <td>1</td>\n",
       "      <td>0</td>\n",
       "      <td>0</td>\n",
       "      <td>58</td>\n",
       "    </tr>\n",
       "    <tr>\n",
       "      <th>1</th>\n",
       "      <td>1</td>\n",
       "      <td>1</td>\n",
       "      <td>0</td>\n",
       "      <td>50</td>\n",
       "    </tr>\n",
       "    <tr>\n",
       "      <th>2</th>\n",
       "      <td>1</td>\n",
       "      <td>1</td>\n",
       "      <td>0</td>\n",
       "      <td>40</td>\n",
       "    </tr>\n",
       "    <tr>\n",
       "      <th>3</th>\n",
       "      <td>1</td>\n",
       "      <td>1</td>\n",
       "      <td>0</td>\n",
       "      <td>36</td>\n",
       "    </tr>\n",
       "    <tr>\n",
       "      <th>4</th>\n",
       "      <td>1</td>\n",
       "      <td>1</td>\n",
       "      <td>0</td>\n",
       "      <td>28</td>\n",
       "    </tr>\n",
       "  </tbody>\n",
       "</table>\n",
       "</div>"
      ],
      "text/plain": [
       "   response  male  activity  age\n",
       "0         1     0         0   58\n",
       "1         1     1         0   50\n",
       "2         1     1         0   40\n",
       "3         1     1         0   36\n",
       "4         1     1         0   28"
      ]
     },
     "execution_count": 7,
     "metadata": {},
     "output_type": "execute_result"
    }
   ],
   "source": [
    "df.head(5)"
   ]
  },
  {
   "cell_type": "code",
   "execution_count": 8,
   "metadata": {
    "collapsed": false
   },
   "outputs": [
    {
     "name": "stdout",
     "output_type": "stream",
     "text": [
      "Optimization terminated successfully.\n",
      "         Current function value: 0.650662\n",
      "         Iterations 5\n",
      "                         Results: Logit\n",
      "=================================================================\n",
      "Model:              Logit            Pseudo R-squared: 0.061     \n",
      "Dependent Variable: response         AIC:              1213.7247 \n",
      "Date:               2017-02-08 14:57 BIC:              1237.8737 \n",
      "No. Observations:   925              Log-Likelihood:   -601.86   \n",
      "Df Model:           4                LL-Null:          -641.04   \n",
      "Df Residuals:       920              LLR p-value:      3.8865e-16\n",
      "Converged:          1.0000           Scale:            1.0000    \n",
      "No. Iterations:     5.0000                                       \n",
      "------------------------------------------------------------------\n",
      "               Coef.   Std.Err.     z     P>|z|    [0.025   0.975]\n",
      "------------------------------------------------------------------\n",
      "const         -2.4884    0.8900  -2.7959  0.0052  -4.2327  -0.7440\n",
      "male           0.9537    0.1582   6.0291  0.0000   0.6437   1.2637\n",
      "activity       0.9137    0.1848   4.9451  0.0000   0.5516   1.2759\n",
      "age            0.0699    0.0356   1.9645  0.0495   0.0002   0.1397\n",
      "(Age/10)^2    -0.0687    0.0341  -2.0146  0.0439  -0.1355  -0.0019\n",
      "=================================================================\n",
      "\n"
     ]
    }
   ],
   "source": [
    "xa = df.drop('response',axis=1)\n",
    "xa['(Age/10)^2'] = (xa.age/10.0)**2.0\n",
    "ya = df['response']\n",
    "\n",
    "moda = sma.Logit(endog=ya, exog=sma.add_constant(xa))\n",
    "fita = moda.fit()\n",
    "print fita.summary2()"
   ]
  },
  {
   "cell_type": "markdown",
   "metadata": {},
   "source": [
    "__(a)__:\n",
    "\n",
    "__Using the designated information given in the exam we can create the elasticity effect of active status for a customer that is male and 50 years old.__\n",
    "\n",
    "__Through the following code, we create a variable xAM50 for active male at 50 to determine the probability of the outcome. Check it and then work out the marginal effects.__"
   ]
  },
  {
   "cell_type": "code",
   "execution_count": 9,
   "metadata": {
    "collapsed": false
   },
   "outputs": [
    {
     "name": "stdout",
     "output_type": "stream",
     "text": [
      "const        -2.488358\n",
      "male          0.953694\n",
      "activity      0.913748\n",
      "age           0.069945\n",
      "(Age/10)^2   -0.068692\n",
      "dtype: float64\n",
      "\n",
      "   male  activity   age  (Age/10)^2\n",
      "0   1.0       1.0  50.0        25.0\n"
     ]
    }
   ],
   "source": [
    "beta = fita.params\n",
    "print beta\n",
    "xAM50 = pd.DataFrame(np.array([1,1,50,(50/10)**2.0])).T\n",
    "xAM50.columns = xa.columns\n",
    "print \"\\n\", xAM50"
   ]
  },
  {
   "cell_type": "code",
   "execution_count": 10,
   "metadata": {
    "collapsed": false
   },
   "outputs": [],
   "source": [
    "age = np.array(range(20,85,5))\n",
    "\n",
    "beta2 = np.array([0.069945,-0.068692,0.953694,0.913748,-2.488358])\n",
    "\n",
    "df = pd.DataFrame(age, columns=['age'])\n",
    "df['age2'] = (df['age']/10.0)**2.0\n",
    "\n",
    "df1=df.copy(); df2=df.copy(); df3=df.copy(); df4=df.copy();\n",
    "df1['male'] = 1; df1['activity']=1; df1['const']=1;\n",
    "df2['male'] = 1; df2['activity']=0; df2['const']=1;\n",
    "df3['male'] = 0; df3['activity']=1; df3['const']=1;\n",
    "df4['male'] = 0; df4['activity']=0; df4['const']=1;\n",
    "\n",
    "pr11 = np.exp(np.dot(df1,beta2))/(1+np.exp(np.dot(df1,beta2)))\n",
    "pr12 = np.exp(np.dot(df2,beta2))/(1+np.exp(np.dot(df2,beta2)))\n",
    "pr13 = np.exp(np.dot(df3,beta2))/(1+np.exp(np.dot(df3,beta2)))\n",
    "pr14 = np.exp(np.dot(df4,beta2))/(1+np.exp(np.dot(df4,beta2)))\n",
    "\n",
    "p3 = beta['age']-2.0*beta['age']*age/100.0\n",
    "c1 = pd.DataFrame(pr11*(1-pr11)*p3, columns = ['Active Male'], index=age)\n",
    "c2 = pd.DataFrame(pr12*(1-pr12)*p3, columns = ['InActive Male'], index=age)\n",
    "c3 = pd.DataFrame(pr13*(1-pr13)*p3, columns = ['Active Female'], index=age)\n",
    "c4 = pd.DataFrame(pr14*(1-pr14)*p3, columns = ['InActive FeMale'], index=age)"
   ]
  },
  {
   "cell_type": "code",
   "execution_count": 11,
   "metadata": {
    "collapsed": false
   },
   "outputs": [
    {
     "data": {
      "text/plain": [
       "0.069945253130388477"
      ]
     },
     "execution_count": 11,
     "metadata": {},
     "output_type": "execute_result"
    }
   ],
   "source": [
    "beta['age']"
   ]
  },
  {
   "cell_type": "code",
   "execution_count": 12,
   "metadata": {
    "collapsed": false
   },
   "outputs": [
    {
     "data": {
      "text/plain": [
       "<matplotlib.axes._subplots.AxesSubplot at 0xa88e080>"
      ]
     },
     "execution_count": 12,
     "metadata": {},
     "output_type": "execute_result"
    },
    {
     "data": {
      "image/png": "[encoded data removed]",
      "text/plain": [
       "<matplotlib.figure.Figure at 0xa6a6748>"
      ]
     },
     "metadata": {},
     "output_type": "display_data"
    }
   ],
   "source": [
    "fig, ax=subplots(1,1, figsize = (12,6))\n",
    "c1.plot(ax=ax, color='b')\n",
    "c2.plot(ax=ax, color='r')\n",
    "c3.plot(ax=ax, color='g')\n",
    "c4.plot(ax=ax, color='k')"
   ]
  },
  {
   "cell_type": "code",
   "execution_count": null,
   "metadata": {
    "collapsed": true
   },
   "outputs": [],
   "source": []
  },
  {
   "cell_type": "code",
   "execution_count": null,
   "metadata": {
    "collapsed": true
   },
   "outputs": [],
   "source": []
  }
 ],
 "metadata": {
  "kernelspec": {
   "display_name": "Python 2",
   "language": "python",
   "name": "python2"
  },
  "language_info": {
   "codemirror_mode": {
    "name": "ipython",
    "version": 2
   },
   "file_extension": ".py",
   "mimetype": "text/x-python",
   "name": "python",
   "nbconvert_exporter": "python",
   "pygments_lexer": "ipython2",
   "version": "2.7.12"
  }
 },
 "nbformat": 4,
 "nbformat_minor": 1
}
