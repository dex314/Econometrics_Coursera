{
 "cells": [
  {
   "cell_type": "markdown",
   "metadata": {},
   "source": [
    "### Econometrics Week 5 Test\n",
    "\n",
    "#### William Schill\n",
    "\n",
    "This file was originally created using Jupyter with Python and HTML and has been saved as a pdf rather than exported to a pdf due to errors in exporting and latex, because of this formatting is a little wonky."
   ]
  },
  {
   "cell_type": "markdown",
   "metadata": {},
   "source": [
    "Importing necessary modules and setting up the data set and running a model to match the information in the exam portion."
   ]
  },
  {
   "cell_type": "code",
   "execution_count": 1,
   "metadata": {
    "collapsed": true
   },
   "outputs": [],
   "source": [
    "import numpy as np\n",
    "import pandas as pd\n",
    "from matplotlib.pyplot import *\n",
    "import statsmodels.api as sma\n",
    "import statsmodels.stats as sms\n",
    "import seaborn as sns\n",
    "%matplotlib inline"
   ]
  },
  {
   "cell_type": "code",
   "execution_count": 2,
   "metadata": {
    "collapsed": false
   },
   "outputs": [],
   "source": [
    "path = 'C:\\\\Users\\\\SchillW\\\\Documents\\\\Econ_Coursera\\\\Wk5\\\\'\n",
    "df = pd.read_excel(path+'TrainExer5-5.xls')"
   ]
  },
  {
   "cell_type": "code",
   "execution_count": 3,
   "metadata": {
    "collapsed": false
   },
   "outputs": [
    {
     "data": {
      "text/html": [
       "<div>\n",
       "<table border=\"1\" class=\"dataframe\">\n",
       "  <thead>\n",
       "    <tr style=\"text-align: right;\">\n",
       "      <th></th>\n",
       "      <th>response</th>\n",
       "      <th>male</th>\n",
       "      <th>activity</th>\n",
       "      <th>age</th>\n",
       "    </tr>\n",
       "  </thead>\n",
       "  <tbody>\n",
       "    <tr>\n",
       "      <th>0</th>\n",
       "      <td>1</td>\n",
       "      <td>0</td>\n",
       "      <td>0</td>\n",
       "      <td>58</td>\n",
       "    </tr>\n",
       "    <tr>\n",
       "      <th>1</th>\n",
       "      <td>1</td>\n",
       "      <td>1</td>\n",
       "      <td>0</td>\n",
       "      <td>50</td>\n",
       "    </tr>\n",
       "    <tr>\n",
       "      <th>2</th>\n",
       "      <td>1</td>\n",
       "      <td>1</td>\n",
       "      <td>0</td>\n",
       "      <td>40</td>\n",
       "    </tr>\n",
       "    <tr>\n",
       "      <th>3</th>\n",
       "      <td>1</td>\n",
       "      <td>1</td>\n",
       "      <td>0</td>\n",
       "      <td>36</td>\n",
       "    </tr>\n",
       "    <tr>\n",
       "      <th>4</th>\n",
       "      <td>1</td>\n",
       "      <td>1</td>\n",
       "      <td>0</td>\n",
       "      <td>28</td>\n",
       "    </tr>\n",
       "  </tbody>\n",
       "</table>\n",
       "</div>"
      ],
      "text/plain": [
       "   response  male  activity  age\n",
       "0         1     0         0   58\n",
       "1         1     1         0   50\n",
       "2         1     1         0   40\n",
       "3         1     1         0   36\n",
       "4         1     1         0   28"
      ]
     },
     "execution_count": 3,
     "metadata": {},
     "output_type": "execute_result"
    }
   ],
   "source": [
    "df.head(5)"
   ]
  },
  {
   "cell_type": "code",
   "execution_count": 4,
   "metadata": {
    "collapsed": false
   },
   "outputs": [
    {
     "name": "stdout",
     "output_type": "stream",
     "text": [
      "Optimization terminated successfully.\n",
      "         Current function value: 0.650662\n",
      "         Iterations 5\n",
      "                         Results: Logit\n",
      "=================================================================\n",
      "Model:              Logit            Pseudo R-squared: 0.061     \n",
      "Dependent Variable: response         AIC:              1213.7247 \n",
      "Date:               2017-02-24 09:17 BIC:              1237.8737 \n",
      "No. Observations:   925              Log-Likelihood:   -601.86   \n",
      "Df Model:           4                LL-Null:          -641.04   \n",
      "Df Residuals:       920              LLR p-value:      3.8865e-16\n",
      "Converged:          1.0000           Scale:            1.0000    \n",
      "No. Iterations:     5.0000                                       \n",
      "------------------------------------------------------------------\n",
      "               Coef.   Std.Err.     t     P>|t|    [0.025   0.975]\n",
      "------------------------------------------------------------------\n",
      "const         -2.4884    0.8900  -2.7959  0.0053  -4.2350  -0.7417\n",
      "male           0.9537    0.1582   6.0291  0.0000   0.6433   1.2641\n",
      "activity       0.9137    0.1848   4.9451  0.0000   0.5511   1.2764\n",
      "age            0.0699    0.0356   1.9645  0.0498   0.0001   0.1398\n",
      "(Age/10)^2    -0.0687    0.0341  -2.0146  0.0442  -0.1356  -0.0018\n",
      "=================================================================\n",
      "\n"
     ]
    }
   ],
   "source": [
    "xa = df.drop('response',axis=1)\n",
    "xa['(Age/10)^2'] = (xa.age/10.0)**2.0\n",
    "ya = df['response']\n",
    "\n",
    "moda = sma.Logit(endog=ya, exog=sma.add_constant(xa))\n",
    "fita = moda.fit(use_t=True)\n",
    "print fita.summary2()"
   ]
  },
  {
   "cell_type": "code",
   "execution_count": 5,
   "metadata": {
    "collapsed": false
   },
   "outputs": [
    {
     "name": "stdout",
     "output_type": "stream",
     "text": [
      "const        -2.488358\n",
      "male          0.953694\n",
      "activity      0.913748\n",
      "age           0.069945\n",
      "(Age/10)^2   -0.068692\n",
      "dtype: float64\n",
      "\n",
      "   male  activity   age  (Age/10)^2\n",
      "0   1.0       1.0  50.0        25.0\n",
      "\n",
      "   male  activity   age  (Age/10)^2\n",
      "0   1.0       0.0  50.0        25.0\n"
     ]
    }
   ],
   "source": [
    "beta = fita.params\n",
    "print beta\n",
    "\n",
    "xAM50 = pd.DataFrame(np.array([1,1,50,(50/10)**2.0])).T\n",
    "xAM50.columns = xa.columns\n",
    "print \"\\n\", xAM50\n",
    "\n",
    "xIM50 = pd.DataFrame(np.array([1,0,50,(50/10)**2.0])).T\n",
    "xIM50.columns = xa.columns\n",
    "print \"\\n\", xIM50"
   ]
  },
  {
   "cell_type": "code",
   "execution_count": 6,
   "metadata": {
    "collapsed": false
   },
   "outputs": [
    {
     "name": "stdout",
     "output_type": "stream",
     "text": [
      "Probability of Response=1 for Active Male Age 50  [ 0.76115956] \n",
      "\n",
      "Probability of Response=1 for Inactive Male Age 50  [ 0.56101919]\n"
     ]
    }
   ],
   "source": [
    "pr1_am50 = np.exp(np.dot(sma.add_constant(xAM50),beta.T)) / (1.0 + np.exp(np.dot(sma.add_constant(xAM50),beta.T)))\n",
    "pr1_im50 = np.exp(np.dot(sma.add_constant(xIM50),beta.T)) / (1.0 + np.exp(np.dot(sma.add_constant(xIM50),beta.T)))\n",
    "print \"Probability of Response=1 for Active Male Age 50 \", pr1_am50, \"\\n\"\n",
    "print \"Probability of Response=1 for Inactive Male Age 50 \", pr1_im50"
   ]
  },
  {
   "cell_type": "markdown",
   "metadata": {},
   "source": [
    "__The method of calculating the marginal effect and elasticity have been by recreating the slides from lecture 5.5 which can be found in the Appendix attached with this test.__"
   ]
  },
  {
   "cell_type": "code",
   "execution_count": 7,
   "metadata": {
    "collapsed": false
   },
   "outputs": [],
   "source": [
    "b2 = beta['activity']\n",
    "active_i = np.array([0,1])\n",
    "b2i = b2*active_i\n",
    "pr0_am50 = 1.0-pr1_am50\n",
    "pr0_im50 = 1.0-pr1_im50\n",
    "## This is the method I used to recreate the information given in the lecture 5.5.\n",
    "mrgeff_active = pd.DataFrame(pr1_am50*pr0_am50*b2i, columns = ['Active Male at 50'])\n",
    "mrgeff_inactive = pd.DataFrame(pr1_im50*pr0_im50*b2i, columns = ['Inactive Male at 50'])\n",
    "elasticity_active = pd.DataFrame(pr0_am50*b2i, columns = ['Active Male at 50'])\n",
    "elasticity_inactive = pd.DataFrame(pr0_im50*b2i, columns = ['Inactive Male at 50'])"
   ]
  },
  {
   "cell_type": "markdown",
   "metadata": {},
   "source": [
    "__The marginal effect of active status for a 50 year old, male, active customer is:__"
   ]
  },
  {
   "cell_type": "code",
   "execution_count": 9,
   "metadata": {
    "collapsed": false
   },
   "outputs": [
    {
     "name": "stdout",
     "output_type": "stream",
     "text": [
      "Active Male at 50    0.166115\n",
      "Name: 1, dtype: float64\n"
     ]
    }
   ],
   "source": [
    "print mrgeff_active.iloc[1]"
   ]
  },
  {
   "cell_type": "markdown",
   "metadata": {},
   "source": [
    "__The marginal effect of active status for a 50 year old, male, _inactive_ customer is:__"
   ]
  },
  {
   "cell_type": "code",
   "execution_count": 10,
   "metadata": {
    "collapsed": false
   },
   "outputs": [
    {
     "name": "stdout",
     "output_type": "stream",
     "text": [
      "Inactive Male at 50    0.225035\n",
      "Name: 1, dtype: float64\n"
     ]
    }
   ],
   "source": [
    "print mrgeff_inactive.iloc[1]"
   ]
  },
  {
   "cell_type": "markdown",
   "metadata": {},
   "source": [
    "__The elasticity effect of active status for a 50 year old active male customer:__"
   ]
  },
  {
   "cell_type": "code",
   "execution_count": 11,
   "metadata": {
    "collapsed": false
   },
   "outputs": [
    {
     "name": "stdout",
     "output_type": "stream",
     "text": [
      "Active Male at 50    0.21824\n",
      "Name: 1, dtype: float64\n"
     ]
    }
   ],
   "source": [
    "print elasticity_active.iloc[1]"
   ]
  },
  {
   "cell_type": "markdown",
   "metadata": {},
   "source": [
    "__The elasticity effect of active status for a 50 year old _inactive_ male customer:__"
   ]
  },
  {
   "cell_type": "code",
   "execution_count": 12,
   "metadata": {
    "collapsed": false
   },
   "outputs": [
    {
     "name": "stdout",
     "output_type": "stream",
     "text": [
      "Inactive Male at 50    0.0\n",
      "Name: 0, dtype: float64\n"
     ]
    }
   ],
   "source": [
    "print elasticity_inactive.iloc[0]"
   ]
  },
  {
   "cell_type": "markdown",
   "metadata": {},
   "source": [
    "__(a)__:\n",
    "\n",
    "__Using the designated information given in the exam we can create the elasticity effect of active status for a customer that is male and 50 years old.__\n",
    "\n",
    "__Through the following code, we create a variable xAM50 for active male at 50 to determine the probability of the outcome. Check it and then work out the marginal effects.__\n",
    "\n",
    "__The elasticity effect of active status for a 50 year old male customer = 0.21824__\n",
    "\n",
    "__The elasticity effect of inactive status for a 50 year old male customer = 0.0__"
   ]
  },
  {
   "cell_type": "code",
   "execution_count": 13,
   "metadata": {
    "collapsed": false
   },
   "outputs": [
    {
     "data": {
      "text/plain": [
       "<matplotlib.axes._subplots.AxesSubplot at 0xad7a4a8>"
      ]
     },
     "execution_count": 13,
     "metadata": {},
     "output_type": "execute_result"
    },
    {
     "data": {
      "image/png": "[encoded data removed]",
      "text/plain": [
       "<matplotlib.figure.Figure at 0xad83438>"
      ]
     },
     "metadata": {},
     "output_type": "display_data"
    }
   ],
   "source": [
    "fig, ax=subplots(1, 2, figsize=(12,6))\n",
    "ax=ax.ravel()\n",
    "mrgeff_active.plot(ax=ax[0], color='b', legend=True, title='Marginal Effect of Activity')\n",
    "mrgeff_inactive.plot(ax=ax[0], color='g', legend=True)\n",
    "elasticity_active.plot(ax=ax[1], color='b', legend=True, title='Elasticity of Activity')\n",
    "elasticity_inactive.plot(ax=ax[1], color='g', legend=True)"
   ]
  },
  {
   "cell_type": "markdown",
   "metadata": {
    "collapsed": true
   },
   "source": [
    "__(b)__:\n",
    "\n",
    "Elasticity can be defined and simplified as:\n",
    "\n",
    "$ \\frac{Pr[resp_i=1 | active_i=1] - Pr[resp_i=1 | active_1=0]}{Pr[resp_i=1 | active_i=0]}  = ... $\n",
    "\n",
    "$ ... = \\frac{Pr[resp_i=1 | active_i=1]}{Pr[resp_i=1 | active_i=0]} - 1 = ... $\n",
    "\n",
    "$ ... =\\frac{\\frac{\\exp(\\beta_2)}{1+\\exp(\\beta_2)}}{{\\frac{exp(0)}{1+exp(0)}}} - 1 = ... $\n",
    "\n",
    "$ ... =\\frac{ exp(\\beta_2)*(1+exp(0)}{(1+exp(\\beta_2))*(exp(0))} - 1 = ... $\n",
    "\n",
    "$ ... =\\frac{2*exp(\\beta_2)}{1+exp(\\beta_2)} - 1 = ... $\n",
    "\n",
    "$ ... = \\frac{2exp(\\beta_2) - (1+exp(\\beta_2))}{1+exp(\\beta_2)} = ... $\n",
    "\n",
    "$ ... = \\frac{exp(\\beta_2) - 1}{1+exp(\\beta_2)} = ... $\n",
    "\n",
    "$ ... = (exp(\\beta_2)- 1)*(1+exp(\\beta_2))^{-1} = ... $\n",
    "\n",
    "$ ... = (exp(\\beta_2)-1)*Pr[resp_i=0 | active_i = 1] $\n",
    "\n",
    "\n",
    "This works as we can say that probability with active_i=1 and response_i=0 we would have:\n",
    "\n",
    "$ (1+exp(\\beta_2))^{-1} = 1 - \\frac{exp(\\beta_2)}{1+exp(\\beta_2)} = ...$\n",
    "\n",
    "$ = 1 - Pr[resp_i=1 | active_1=1] = Pr[resp_i=0|active_i=1] $\n"
   ]
  },
  {
   "cell_type": "markdown",
   "metadata": {
    "collapsed": true
   },
   "source": [
    "__(c)__: \n",
    "\n",
    "Use the formula in part B to compute the elasticity of 50 years old male active customer.\n",
    "\n",
    "The formula is :\n",
    "\n",
    "$ ( exp(\\beta_2) - 1 ) * P[resp_i = 0 | active_i = 1] $\n",
    "\n",
    "We know that:\n",
    "\n",
    "$ P[resp_i = 0 | active_i = 1] = 1 - P[resp_i = 1 | active_i = 1] = 1 - \\frac{exp(\\beta_2)}{1+exp(\\beta_2)} $"
   ]
  },
  {
   "cell_type": "code",
   "execution_count": 14,
   "metadata": {
    "collapsed": false
   },
   "outputs": [
    {
     "data": {
      "text/plain": [
       "0.42753297609121427"
      ]
     },
     "execution_count": 14,
     "metadata": {},
     "output_type": "execute_result"
    }
   ],
   "source": [
    "xb2 = beta['activity']\n",
    "am50_2 = (np.exp(xb2)-1.0) / (1+np.exp(xb2))\n",
    "am50_2"
   ]
  },
  {
   "cell_type": "markdown",
   "metadata": {},
   "source": [
    "As was mentioned above, the method I used to calculate the elasticity in part __(a)__ was found by replicating the plots and information from the slides in lecture 5.5 and I have the code to show the exact results if necessary. With that being said, I cannot understand why this calculation is coming out at about twice that of the elasticity calculated in the corresponding part of __(a)__.\n",
    "\n",
    "With this in mind, I have added an Appendix below for the recreation of lecture 5.5."
   ]
  },
  {
   "cell_type": "markdown",
   "metadata": {
    "collapsed": true
   },
   "source": [
    "---------------"
   ]
  },
  {
   "cell_type": "markdown",
   "metadata": {},
   "source": [
    "#### APPENDIX CONCERNING LECT 5.5"
   ]
  },
  {
   "cell_type": "code",
   "execution_count": 15,
   "metadata": {
    "collapsed": false
   },
   "outputs": [
    {
     "name": "stdout",
     "output_type": "stream",
     "text": [
      "   response  male  activity  age\n",
      "0         1     0         0   58\n",
      "1         1     1         0   50\n",
      "2         1     1         0   40\n",
      "Optimization terminated successfully.\n",
      "         Current function value: 0.650662\n",
      "         Iterations 5\n",
      "\n",
      " Summary: \n",
      "                         Results: Logit\n",
      "=================================================================\n",
      "Model:              Logit            Pseudo R-squared: 0.061     \n",
      "Dependent Variable: response         AIC:              1213.7247 \n",
      "Date:               2017-02-24 09:19 BIC:              1237.8737 \n",
      "No. Observations:   925              Log-Likelihood:   -601.86   \n",
      "Df Model:           4                LL-Null:          -641.04   \n",
      "Df Residuals:       920              LLR p-value:      3.8865e-16\n",
      "Converged:          1.0000           Scale:            1.0000    \n",
      "No. Iterations:     5.0000                                       \n",
      "------------------------------------------------------------------\n",
      "               Coef.   Std.Err.     t     P>|t|    [0.025   0.975]\n",
      "------------------------------------------------------------------\n",
      "const         -2.4884    0.8900  -2.7959  0.0053  -4.2350  -0.7417\n",
      "male           0.9537    0.1582   6.0291  0.0000   0.6433   1.2641\n",
      "activity       0.9137    0.1848   4.9451  0.0000   0.5511   1.2764\n",
      "age            0.0699    0.0356   1.9645  0.0498   0.0001   0.1398\n",
      "(Age/10)^2    -0.0687    0.0341  -2.0146  0.0442  -0.1356  -0.0018\n",
      "=================================================================\n",
      "\n",
      "const        -2.488358\n",
      "male          0.953694\n",
      "activity      0.913748\n",
      "age           0.069945\n",
      "(Age/10)^2   -0.068692\n",
      "dtype: float64\n",
      "\n",
      " x Active Male at 50 :\n",
      "   male  activity   age  (Age/10)^2\n",
      "0   1.0       1.0  50.0        25.0\n",
      "\n",
      " Ages : \n",
      "[20 25 30 35 40 45 50 55 60 65 70 75 80]\n",
      "\n",
      " betapp[age] =  0.0699452531304\n"
     ]
    }
   ],
   "source": [
    "path2 = 'C:\\\\Users\\\\SchillW\\\\Documents\\\\Econ_Coursera\\\\Wk5\\\\'\n",
    "df2 = pd.read_excel(path2+'TrainExer5-5.xls')\n",
    "print df2.head(3)\n",
    "\n",
    "## Build Model\n",
    "xapp = df.drop('response',axis=1)\n",
    "xapp['(Age/10)^2'] = (xapp.age/10.0)**2.0\n",
    "yapp = df2['response']\n",
    "modapp = sma.Logit(endog=yapp, exog=sma.add_constant(xapp))\n",
    "fitapp = modapp.fit(use_t=True)\n",
    "print \"\\n Summary: \\n\", fitapp.summary2()\n",
    "\n",
    "betapp = fitapp.params\n",
    "print betapp\n",
    "xAM50_app = pd.DataFrame(np.array([1,1,50,(50/10)**2.0])).T\n",
    "xAM50_app.columns = xapp.columns\n",
    "print \"\\n x Active Male at 50 :\\n\", xAM50_app\n",
    "\n",
    "ageApp = np.array(range(20,85,5))\n",
    "print \"\\n Ages : \\n\", ageApp\n",
    "\n",
    "betaApp = np.array([0.069945,-0.068692,0.953694,0.913748,-2.488358])\n",
    "\n",
    "df3 = pd.DataFrame(ageApp, columns=['age'])\n",
    "df3['age2'] = (df3['age']/10.0)**2.0\n",
    "\n",
    "df1a=df3.copy(); df2a=df3.copy(); df3a=df3.copy(); df4a=df3.copy();\n",
    "df1a['male'] = 1; df1a['activity']=1; df1a['const']=1;\n",
    "df2a['male'] = 1; df2a['activity']=0; df2a['const']=1;\n",
    "df3a['male'] = 0; df3a['activity']=1; df3a['const']=1;\n",
    "df4a['male'] = 0; df4a['activity']=0; df4a['const']=1;\n",
    "\n",
    "pr11 = np.exp(np.dot(df1a,betaApp))/(1+np.exp(np.dot(df1a,betaApp)))\n",
    "pr12 = np.exp(np.dot(df2a,betaApp))/(1+np.exp(np.dot(df2a,betaApp)))\n",
    "pr13 = np.exp(np.dot(df3a,betaApp))/(1+np.exp(np.dot(df3a,betaApp)))\n",
    "pr14 = np.exp(np.dot(df4a,betaApp))/(1+np.exp(np.dot(df4a,betaApp)))\n",
    "\n",
    "p3 = betapp['age']-2.0*betapp['age']*ageApp/100.0\n",
    "c1 = pd.DataFrame(pr11*(1-pr11)*p3, columns = ['Active Male'], index=ageApp)\n",
    "c2 = pd.DataFrame(pr12*(1-pr12)*p3, columns = ['InActive Male'], index=ageApp)\n",
    "c3 = pd.DataFrame(pr13*(1-pr13)*p3, columns = ['Active Female'], index=ageApp)\n",
    "c4 = pd.DataFrame(pr14*(1-pr14)*p3, columns = ['InActive FeMale'], index=ageApp)\n",
    "\n",
    "print \"\\n betapp[age] = \", betapp['age']"
   ]
  },
  {
   "cell_type": "code",
   "execution_count": 16,
   "metadata": {
    "collapsed": false
   },
   "outputs": [
    {
     "data": {
      "text/plain": [
       "<matplotlib.axes._subplots.AxesSubplot at 0xb1f5208>"
      ]
     },
     "execution_count": 16,
     "metadata": {},
     "output_type": "execute_result"
    },
    {
     "data": {
      "image/png": "[encoded data removed]",
      "text/plain": [
       "<matplotlib.figure.Figure at 0xb209da0>"
      ]
     },
     "metadata": {},
     "output_type": "display_data"
    }
   ],
   "source": [
    "fig, ax=subplots(1,1, figsize = (12,6))\n",
    "c1.plot(ax=ax, color='b')\n",
    "c2.plot(ax=ax, color='r')\n",
    "c3.plot(ax=ax, color='g')\n",
    "c4.plot(ax=ax, color='k')"
   ]
  },
  {
   "cell_type": "code",
   "execution_count": null,
   "metadata": {
    "collapsed": true
   },
   "outputs": [],
   "source": []
  },
  {
   "cell_type": "code",
   "execution_count": null,
   "metadata": {
    "collapsed": true
   },
   "outputs": [],
   "source": []
  }
 ],
 "metadata": {
  "kernelspec": {
   "display_name": "Python 2",
   "language": "python",
   "name": "python2"
  },
  "language_info": {
   "codemirror_mode": {
    "name": "ipython",
    "version": 2
   },
   "file_extension": ".py",
   "mimetype": "text/x-python",
   "name": "python",
   "nbconvert_exporter": "python",
   "pygments_lexer": "ipython2",
   "version": "2.7.12"
  }
 },
 "nbformat": 4,
 "nbformat_minor": 1
}
