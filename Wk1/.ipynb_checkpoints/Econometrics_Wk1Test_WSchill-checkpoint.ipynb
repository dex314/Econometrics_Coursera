{
 "cells": [
  {
   "cell_type": "markdown",
   "metadata": {},
   "source": [
    "### Econometrics - Test Week 1\n",
    "#### William Schill"
   ]
  },
  {
   "cell_type": "markdown",
   "metadata": {},
   "source": [
    "_Questions_\n",
    "\n",
    "_This exercise considers an example of data that do not satisfy all the standard assumptions of simple regression. In the considered case, one particular observation lies far off from the others, that is, it is an outlier. This violates assumptions A3 and A4, which state that all error terms $\\epsilon_i$ are drawn from one and the same distribution with mean zero and fixed variance, i.e. $\\mu=0$ and $sigma^2$._\n",
    "_The dataset contains twenty weekly observations on sales and advertising of a department store. The question of interest lies in estimating the effect of advertising on sales. One of the weeks was special, as the store was also open in the evenings during this week, but this aspect will first be ignored in the analysis._\n",
    "\n",
    "_(a) Make the scatter diagram with sales on the vertical axis and advertising on the horizontal axis. What do you\n",
    "expect to find if you would fit a regression line to these data?_\n",
    "  "
   ]
  },
  {
   "cell_type": "code",
   "execution_count": 2,
   "metadata": {
    "collapsed": false
   },
   "outputs": [
    {
     "data": {
      "text/plain": [
       "<matplotlib.axes._subplots.AxesSubplot at 0x9d6b278>"
      ]
     },
     "execution_count": 2,
     "metadata": {},
     "output_type": "execute_result"
    },
    {
     "data": {
      "image/png": "[encoded data removed]",
      "text/plain": [
       "<matplotlib.figure.Figure at 0x9c3cc88>"
      ]
     },
     "metadata": {},
     "output_type": "display_data"
    }
   ],
   "source": [
    "import numpy as np\n",
    "import pandas as pd\n",
    "import seaborn as sns\n",
    "%matplotlib inline\n",
    "dirc = 'C:\\\\Users\\\\SchillW\\\\Documents\\\\Econ_Coursera\\\\Wk1\\\\'\n",
    "f = 'TestExer1-sales-round1.xls'\n",
    "df = pd.read_excel(dirc + f)\n",
    "df.plot.scatter(y='Sales',x='Advertising',\n",
    "                figsize=(12,8),title='Scatter Plot')"
   ]
  },
  {
   "cell_type": "markdown",
   "metadata": {},
   "source": [
    "Assuming the data is normal for all of the questions responded to here, if we were trying to fit a regression line to this data, we would find that the regression was not a good fit due to the presence of the outliar at sales = 50.  "
   ]
  },
  {
   "cell_type": "markdown",
   "metadata": {},
   "source": [
    "_(b) Estimate the coefficients a and b in the simple regression model with sales as dependent variable and advertising\n",
    "as explanatory factor. Also compute the standard error and t-value of b. Is b significantly different from 0?_  "
   ]
  },
  {
   "cell_type": "code",
   "execution_count": 3,
   "metadata": {
    "collapsed": false
   },
   "outputs": [
    {
     "name": "stdout",
     "output_type": "stream",
     "text": [
      "                            OLS Regression Results                            \n",
      "==============================================================================\n",
      "Dep. Variable:                      y   R-squared:                       0.027\n",
      "Model:                            OLS   Adj. R-squared:                 -0.027\n",
      "Method:                 Least Squares   F-statistic:                    0.5002\n",
      "Date:                Fri, 07 Oct 2016   Prob (F-statistic):              0.488\n",
      "Time:                        15:35:21   Log-Likelihood:                -62.608\n",
      "No. Observations:                  20   AIC:                             129.2\n",
      "Df Residuals:                      18   BIC:                             131.2\n",
      "Df Model:                           1                                         \n",
      "Covariance Type:            nonrobust                                         \n",
      "==============================================================================\n",
      "                 coef    std err          t      P>|t|      [0.025      0.975]\n",
      "------------------------------------------------------------------------------\n",
      "const         29.6269      4.882      6.069      0.000      19.371      39.883\n",
      "x1            -0.3246      0.459     -0.707      0.488      -1.289       0.640\n",
      "==============================================================================\n",
      "Omnibus:                       40.109   Durbin-Watson:                   1.994\n",
      "Prob(Omnibus):                  0.000   Jarque-Bera (JB):              121.776\n",
      "Skew:                           3.178   Prob(JB):                     3.60e-27\n",
      "Kurtosis:                      13.283   Cond. No.                         40.1\n",
      "==============================================================================\n",
      "\n",
      "Warnings:\n",
      "[1] Standard Errors assume that the covariance matrix of the errors is correctly specified.\n"
     ]
    }
   ],
   "source": [
    "xwk1 = np.reshape(df['Advertising'],(len(df),1))\n",
    "ywk1 = np.reshape(df['Sales'],(len(df),1))\n",
    "\n",
    "import statsmodels.api as sm\n",
    "xwk1i = sm.add_constant(xwk1)\n",
    "mod = sm.OLS(ywk1,xwk1i)\n",
    "res = mod.fit()\n",
    "print res.summary()"
   ]
  },
  {
   "cell_type": "markdown",
   "metadata": {},
   "source": [
    "In this example of statsmodels, const refers to our 'a' intercept and x1 refers to our first coefficient 'b'. The values are listed under the heading 'coef' for each. It can be seen by the the regression results summary that the standard error for b is 0.459 and the t-value for b = -0.707. Assuming the null hypothesis (H0) is that b=0, then by the calculated p-value for the t-test, b is not significantly different from zero. Here P ~ 0.488 where the significance of the variable decreases as you approach 1.  "
   ]
  },
  {
   "cell_type": "markdown",
   "metadata": {},
   "source": [
    "_(c) Compute the residuals and draw a histogram of these residuals. What conclusion do you draw from this histogram?_  "
   ]
  },
  {
   "cell_type": "code",
   "execution_count": 4,
   "metadata": {
    "collapsed": false
   },
   "outputs": [
    {
     "data": {
      "text/plain": [
       "<matplotlib.axes._subplots.AxesSubplot at 0xa915588>"
      ]
     },
     "execution_count": 4,
     "metadata": {},
     "output_type": "execute_result"
    },
    {
     "data": {
      "image/png": "[encoded data removed]",
      "text/plain": [
       "<matplotlib.figure.Figure at 0x3c2eef0>"
      ]
     },
     "metadata": {},
     "output_type": "display_data"
    }
   ],
   "source": [
    "yhat_wk1 = np.reshape(xwk1i.dot(res.params), (len(ywk1),1))\n",
    "resids = pd.DataFrame( (ywk1-yhat_wk1) )\n",
    "resids.plot.hist(['g'], title='Histogram of Residuals', \n",
    "                 figsize=(10,8))"
   ]
  },
  {
   "cell_type": "markdown",
   "metadata": {},
   "source": [
    " It can be seen from the histogram of the residuals that the outliar is causing a significant spike in the error and setting a poor regression estimation. The residuals are also not normally distributed."
   ]
  },
  {
   "cell_type": "markdown",
   "metadata": {},
   "source": [
    "_(d) Apparently, the regression result of part (b) is not satisfactory. Once you realize that the large residual corresponds to the week with opening hours during the evening, how would you proceed to get a more satisfactory regression model?_  "
   ]
  },
  {
   "cell_type": "markdown",
   "metadata": {},
   "source": [
    "One way to proceed would be to change the outliar to the mean or the median of the data, potentially resulting in an improved and higher likeliness fit. From moving forward into the questions on the test, it is clear that another possibility is removing the point altogether.  "
   ]
  },
  {
   "cell_type": "markdown",
   "metadata": {},
   "source": [
    "_(e) Delete this special week from the sample and use the remaining 19 weeks to estimate the coefficients a and b in the simple regression model with sales as dependent variable and advertising as explanatory factor. Also compute the standard error and t-value of b. Is b significantly different from 0?_  "
   ]
  },
  {
   "cell_type": "code",
   "execution_count": 5,
   "metadata": {
    "collapsed": false
   },
   "outputs": [
    {
     "name": "stdout",
     "output_type": "stream",
     "text": [
      "                            OLS Regression Results                            \n",
      "==============================================================================\n",
      "Dep. Variable:                      y   R-squared:                       0.515\n",
      "Model:                            OLS   Adj. R-squared:                  0.487\n",
      "Method:                 Least Squares   F-statistic:                     18.08\n",
      "Date:                Fri, 07 Oct 2016   Prob (F-statistic):           0.000538\n",
      "Time:                        15:35:27   Log-Likelihood:                -26.897\n",
      "No. Observations:                  19   AIC:                             57.79\n",
      "Df Residuals:                      17   BIC:                             59.68\n",
      "Df Model:                           1                                         \n",
      "Covariance Type:            nonrobust                                         \n",
      "==============================================================================\n",
      "                 coef    std err          t      P>|t|      [0.025      0.975]\n",
      "------------------------------------------------------------------------------\n",
      "const         21.1250      0.955     22.124      0.000      19.110      23.140\n",
      "x1             0.3750      0.088      4.252      0.001       0.189       0.561\n",
      "==============================================================================\n",
      "Omnibus:                        0.597   Durbin-Watson:                   1.749\n",
      "Prob(Omnibus):                  0.742   Jarque-Bera (JB):                0.204\n",
      "Skew:                          -0.252   Prob(JB):                        0.903\n",
      "Kurtosis:                       2.933   Cond. No.                         43.1\n",
      "==============================================================================\n",
      "\n",
      "Warnings:\n",
      "[1] Standard Errors assume that the covariance matrix of the errors is correctly specified.\n"
     ]
    },
    {
     "name": "stderr",
     "output_type": "stream",
     "text": [
      "C:\\Users\\SchillW\\Anaconda2\\lib\\site-packages\\scipy\\stats\\stats.py:1557: UserWarning: kurtosistest only valid for n>=20 ... continuing anyway, n=19\n",
      "  \"anyway, n=%i\" % int(n))\n"
     ]
    }
   ],
   "source": [
    "df1 = df[df.Sales<50] #remove the sales=50 entry\n",
    "xwk1a = np.reshape(df1['Advertising'],(len(df1),1))\n",
    "ywk1a = np.reshape(df1['Sales'],(len(df1),1))\n",
    "xwk1ai = sm.add_constant(xwk1a)\n",
    "moda = sm.OLS(ywk1a,xwk1ai)\n",
    "resa = moda.fit()\n",
    "print resa.summary()"
   ]
  },
  {
   "cell_type": "markdown",
   "metadata": {},
   "source": [
    "The regression imporves markedly. Assuming that H0 => b=0, then in this instance with the outliar removed, the value of b is statistically significant and not close to zero since P > |t| ~ 0.001.  "
   ]
  },
  {
   "cell_type": "markdown",
   "metadata": {},
   "source": [
    "_(e) Discuss the differences between your findings in parts (b) and (e). Describe in words what you have learned\n",
    "from these results._  "
   ]
  },
  {
   "cell_type": "markdown",
   "metadata": {},
   "source": [
    "It is apparent that the presence of an outliar within nomally distributed data can have hard consequences on the predictive capabilites of models. In this scenario, the outliar at 50 was more than three standard deviations away from the mean of the remainder of the data thus causing a significant skew in linear regression modeling. "
   ]
  },
  {
   "cell_type": "code",
   "execution_count": 7,
   "metadata": {
    "collapsed": false
   },
   "outputs": [
    {
     "data": {
      "text/plain": [
       "<matplotlib.axes._subplots.AxesSubplot at 0xacc1160>"
      ]
     },
     "execution_count": 7,
     "metadata": {},
     "output_type": "execute_result"
    },
    {
     "data": {
      "image/png": "[encoded data removed]",
      "text/plain": [
       "<matplotlib.figure.Figure at 0xae36d68>"
      ]
     },
     "metadata": {},
     "output_type": "display_data"
    }
   ],
   "source": [
    "yhat_wk1a = np.reshape(xwk1ai.dot(resa.params), (len(ywk1a),1))\n",
    "resids2 = pd.DataFrame( (ywk1a-yhat_wk1a) )\n",
    "resids2.plot.hist(['g'], title='Histogram of Residuals', \n",
    "                 figsize=(10,8))"
   ]
  },
  {
   "cell_type": "markdown",
   "metadata": {},
   "source": [
    "A re-examination of the residuals now shows a much more normal distribution. For this case we cannot reject H0 as b is significantly different than zero."
   ]
  },
  {
   "cell_type": "code",
   "execution_count": null,
   "metadata": {
    "collapsed": true
   },
   "outputs": [],
   "source": []
  }
 ],
 "metadata": {
  "kernelspec": {
   "display_name": "Python 2",
   "language": "python",
   "name": "python2"
  },
  "language_info": {
   "codemirror_mode": {
    "name": "ipython",
    "version": 2
   },
   "file_extension": ".py",
   "mimetype": "text/x-python",
   "name": "python",
   "nbconvert_exporter": "python",
   "pygments_lexer": "ipython2",
   "version": "2.7.12"
  }
 },
 "nbformat": 4,
 "nbformat_minor": 0
}
